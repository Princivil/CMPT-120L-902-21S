{
 "metadata": {
  "language_info": {
   "codemirror_mode": {
    "name": "ipython",
    "version": 3
   },
   "file_extension": ".py",
   "mimetype": "text/x-python",
   "name": "python",
   "nbconvert_exporter": "python",
   "pygments_lexer": "ipython3",
   "version": "3.9.2-final"
  },
  "orig_nbformat": 2,
  "kernelspec": {
   "name": "python3",
   "display_name": "Python 3.9.2 64-bit",
   "metadata": {
    "interpreter": {
     "hash": "ca2deaa128437ec69c07577d8933bc8fc6989164c5ea635ba448f9a0c97ce2fd"
    }
   }
  }
 },
 "nbformat": 4,
 "nbformat_minor": 2,
 "cells": [
  {
   "cell_type": "markdown",
   "metadata": {},
   "source": [
    "# Lab Two\n",
    "---\n",
    "\n",
    "For this lab we're going to get into logic\n",
    "\n",
    "Our Goals are:\n",
    "- Using Conditionals\n",
    "- Using Loops\n",
    "- Creating a Function\n",
    "- Using a Class"
   ]
  },
  {
   "cell_type": "code",
   "execution_count": null,
   "metadata": {},
   "outputs": [],
   "source": [
    "# Create an if statement\n",
    "COVID='positive'\n",
    "if COVID=='positive':\n",
    "    print(\"You have to quaratine for 2 weeks.\")"
   ]
  },
  {
   "cell_type": "code",
   "execution_count": null,
   "metadata": {},
   "outputs": [],
   "source": [
    "# Create an if else statement\n",
    "x=2\n",
    "y=8\n",
    "\n",
    "if x+y==10:\n",
    "    print(\"Correct\")\n",
    "else:\n",
    "    print(\"Wrong\")"
   ]
  },
  {
   "cell_type": "code",
   "execution_count": null,
   "metadata": {},
   "outputs": [],
   "source": [
    "# Create an if elif else statement\n",
    "paycheck=400\n",
    "phone_bill=100\n",
    "car_insurance=390\n",
    "\n",
    "if paycheck==400:\n",
    "    paycheck=paycheck-phone_bill\n",
    "    print (\"I paid the phone bill and have\", paycheck,\"left.\")\n",
    "if paycheck > car_insurance:\n",
    "    paycheck= paycheck - car_insurance\n",
    "    print (\"I paid the car insurance and have\",paycheck,\"left.\")\n",
    "else:\n",
    "    print (\"Sorry you're too broke for the other bills.\")"
   ]
  },
  {
   "cell_type": "code",
   "execution_count": null,
   "metadata": {},
   "outputs": [],
   "source": [
    "# Create a for loop using range(). Go from 0 to 9. Print out each number.\n",
    "for value in range(10):\n",
    "    print(value)"
   ]
  },
  {
   "cell_type": "code",
   "execution_count": null,
   "metadata": {},
   "outputs": [],
   "source": [
    "# Create a for loop iterating through this list and printing out the value.\n",
    "arr = ['Blue', 'Yellow', 'Red', 'Green', 'Purple', 'Magenta', 'Lilac']\n",
    "arr = ['Blue', 'Yellow', 'Red', 'Green', 'Purple', 'Magenta', 'Lilac']\n",
    "\n",
    "for item in arr:\n",
    "    print(item)\n",
    "# Get the length of the list above and print it.\n",
    "len(arr)"
   ]
  },
  {
   "cell_type": "code",
   "execution_count": null,
   "metadata": {},
   "outputs": [],
   "source": [
    "# Create a while loop that ends after 6 times through. Print something for each pass.\n",
    "n=1\n",
    "while n<=6:\n",
    "    print(n)\n",
    "    n=n+1"
   ]
  },
  {
   "cell_type": "code",
   "execution_count": 2,
   "metadata": {
    "tags": []
   },
   "outputs": [
    {
     "output_type": "stream",
     "name": "stdout",
     "text": "37\n10\n299.99\nTrue\n"
    }
   ],
   "source": [
    "# Create a function to add 2 numbers together. Print out the number\n",
    "def addition(input1,input2):\n",
    "    sum = input1 + input2\n",
    "    print(sum)\n",
    "\n",
    "\n",
    "addition(-6,9)"
   ]
  },
  {
   "cell_type": "code",
   "execution_count": null,
   "metadata": {},
   "outputs": [],
   "source": [
    "# Create a function that tells you if a number is odd or even and print the result.\n",
    "def teller(input):\n",
    "    if input%2==0:\n",
    "        print(\"Even\")\n",
    "    else:\n",
    "       print(\"Odd\") \n",
    "\n",
    "teller(3489)"
   ]
  },
  {
   "cell_type": "code",
   "execution_count": 1,
   "metadata": {
    "tags": []
   },
   "outputs": [],
   "source": [
    "# Initialize an instance of the following class. Use a variable to store the object and then call the info function to print out the attributes.\n",
    "class Fill(object):\n",
    "    def __init__(self,greeting,place,adjective,favorite_food,animal,verb,body_part):\n",
    "        self.greeting=greeting\n",
    "        self.place=place\n",
    "        self.adjective=adjective\n",
    "        self.favorite_food=favorite_food\n",
    "        self.animal=animal\n",
    "        self.verb=verb\n",
    "        self.body_part=body_part\n",
    "    def info(self):\n",
    "        print(self.greeting,\"to\", self.place)\n",
    "        print(\"where all of your\", self.adjective, \"dreams come true.\")\n",
    "        print(\"We serve\", self.favorite_food, \"by the jungle bar!\")\n",
    "        print(\"However beware of the\", self.animal, \"it might\", self.verb, \"your\", self.body_part, \"and you'll never see it again.\")\n",
    "    "
   ]
  }
 ]
}