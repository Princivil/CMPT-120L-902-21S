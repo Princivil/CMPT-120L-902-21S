{
 "metadata": {
  "language_info": {
   "codemirror_mode": {
    "name": "ipython",
    "version": 3
   },
   "file_extension": ".py",
   "mimetype": "text/x-python",
   "name": "python",
   "nbconvert_exporter": "python",
   "pygments_lexer": "ipython3",
   "version": "3.9.2-final"
  },
  "orig_nbformat": 2,
  "kernelspec": {
   "name": "python3",
   "display_name": "Python 3.9.2 64-bit",
   "metadata": {
    "interpreter": {
     "hash": "ca2deaa128437ec69c07577d8933bc8fc6989164c5ea635ba448f9a0c97ce2fd"
    }
   }
  }
 },
 "nbformat": 4,
 "nbformat_minor": 2,
 "cells": [
  {
   "cell_type": "markdown",
   "metadata": {},
   "source": [
    "# Lab One\n",
    "---\n",
    "\n",
    "Ok for this lab we're going to reiterate a lot of the things that we went over in class.\n",
    "\n",
    "Our Goals are:\n",
    "- Defining variables\n",
    "- Using math\n",
    "- Manipulating variables\n",
    "- Changing data types\n",
    "- Playing with lists"
   ]
  },
  {
   "cell_type": "code",
   "execution_count": 4,
   "metadata": {},
   "outputs": [
    {
     "output_type": "stream",
     "name": "stdout",
     "text": [
      "5\nRoses are Red, Violets are Blue\nFalse\n3.7\n"
     ]
    }
   ],
   "source": [
    "# Define 4 variables, one of each type listed: [Integer, String, Boolean, Float]. Print all 4.\n",
    "#Integer\n",
    "cat=5\n",
    "print(cat)\n",
    "\n",
    "#String\n",
    "poem=\"Roses are Red, Violets are Blue\"\n",
    "print(poem)\n",
    "\n",
    "#Boolean\n",
    "is_pregnant=False\n",
    "print(is_pregnant)\n",
    "\n",
    "#Float\n",
    "gpa=3.7\n",
    "print(gpa)"
   ]
  },
  {
   "cell_type": "code",
   "execution_count": 3,
   "metadata": {},
   "outputs": [
    {
     "output_type": "stream",
     "name": "stdout",
     "text": [
      "84\n-78\n0.037037037037037035\n243\n3\n"
     ]
    }
   ],
   "source": [
    "# With whatever variables you'd like demonstrate the following: [Addition, Subtraction, Division, Multiplication, Modulo]. Print all 5.\n",
    "x=3\n",
    "y=81\n",
    "#Addition\n",
    "print(x+y)\n",
    "\n",
    "#Subtraction\n",
    "print(x-y)\n",
    "\n",
    "#Division\n",
    "print(x/y)\n",
    "\n",
    "#Multiplication\n",
    "print(x*y)\n",
    "\n",
    "#Modulo\n",
    "print(x%y)"
   ]
  },
  {
   "cell_type": "code",
   "execution_count": 1,
   "metadata": {},
   "outputs": [
    {
     "output_type": "stream",
     "name": "stdout",
     "text": [
      "57\n"
     ]
    }
   ],
   "source": [
    "# Using 2 variables and addition print the number 57\n",
    "x=37\n",
    "y=20\n",
    "print(x+y)"
   ]
  },
  {
   "cell_type": "code",
   "execution_count": 2,
   "metadata": {
    "tags": []
   },
   "outputs": [
    {
     "output_type": "stream",
     "name": "stdout",
     "text": "37\n10\n299.99\nTrue\n"
    }
   ],
   "source": [
    "# Change this variable to a string and print\n",
    "number_into_string = 37\n",
    "print(str(number_into_string))\n",
    "\n",
    "# Change this variable to a integer and print\n",
    "string_into_number = '10'\n",
    "print(int(string_into_number))\n",
    "\n",
    "# Change this variable to a float and print\n",
    "string_into_float = '299.99'\n",
    "print(float(string_into_float))\n",
    "\n",
    "# Change this variable to a boolean and print\n",
    "number_into_boolean = 37\n",
    "print(bool(number_into_boolean))"
   ]
  },
  {
   "cell_type": "code",
   "execution_count": 2,
   "metadata": {},
   "outputs": [
    {
     "output_type": "stream",
     "name": "stdout",
     "text": [
      "['I got', 'greens', 'beans', 'potatoes', 'tomatoes', 'lamb', 'hog']\n"
     ]
    }
   ],
   "source": [
    "# Make me a list of any type\n",
    "You_Name_It=[\"I got\",\"greens\",\"beans\",\"potatoes\",\"tomatoes\",\"lamb\",\"hog\"]\n",
    "print(You_Name_It)"
   ]
  }
 ]
}